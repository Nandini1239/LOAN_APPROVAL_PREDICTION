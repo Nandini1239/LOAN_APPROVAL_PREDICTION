{
  "nbformat": 4,
  "nbformat_minor": 0,
  "metadata": {
    "colab": {
      "private_outputs": true,
      "provenance": []
    },
    "kernelspec": {
      "name": "python3",
      "display_name": "Python 3"
    },
    "language_info": {
      "name": "python"
    }
  },
  "cells": [
    {
      "cell_type": "code",
      "execution_count": null,
      "metadata": {
        "id": "_v5CEkG-Xeck"
      },
      "outputs": [],
      "source": [
        "import numpy as np\n",
        "import pandas as pd\n",
        "import matplotlib.pyplot as plt\n",
        "import seaborn as sns\n",
        "from sklearn import svm\n"
      ]
    },
    {
      "cell_type": "code",
      "source": [
        "df = pd.read_csv('Loan.csv')\n",
        "df.head()"
      ],
      "metadata": {
        "id": "eTT78q7SYmBd"
      },
      "execution_count": null,
      "outputs": []
    },
    {
      "cell_type": "code",
      "source": [
        "df.info()"
      ],
      "metadata": {
        "id": "3YJ1YUHMY3Ix"
      },
      "execution_count": null,
      "outputs": []
    },
    {
      "cell_type": "code",
      "source": [
        "df.isnull().sum()"
      ],
      "metadata": {
        "id": "lG9YFlI5n-p5"
      },
      "execution_count": null,
      "outputs": []
    },
    {
      "cell_type": "code",
      "source": [
        "df['loanAmount_log'] = np.log(df['LoanAmount'])\n",
        "df['loanAmount_log'].hist(bins=20)"
      ],
      "metadata": {
        "id": "iAqIPiscoSFQ"
      },
      "execution_count": null,
      "outputs": []
    },
    {
      "cell_type": "code",
      "source": [
        "df.isnull().sum()"
      ],
      "metadata": {
        "id": "plVV9pH4pHnp"
      },
      "execution_count": null,
      "outputs": []
    },
    {
      "cell_type": "code",
      "source": [
        "df['TotalIncome'] = df['ApplicantIncome']+ df['CoapplicantIncome']\n",
        "df['TotalIncome_log'] = np.log(df['TotalIncome'])\n",
        "df['TotalIncome_log'].hist(bins=20)"
      ],
      "metadata": {
        "id": "olgdWDI7pQak"
      },
      "execution_count": null,
      "outputs": []
    },
    {
      "cell_type": "code",
      "source": [
        "df['Gender'].fillna(df['Gender'].mode()[0],inplace = True)\n",
        "df['Married'].fillna(df['Married'].mode()[0],inplace = True)\n",
        "df['Self_Employed'].fillna(df['Self_Employed'].mode()[0],inplace = True)\n",
        "df['Dependents'].fillna(df['Dependents'].mode()[0],inplace = True)\n",
        "\n",
        "df.LoanAmount = df.LoanAmount.fillna(df.LoanAmount.mean())\n",
        "df.loanAmount_log = df.loanAmount_log.fillna(df.loanAmount_log.mean())\n",
        "\n",
        "df['Loan_Amount_Term'].fillna(df['Loan_Amount_Term'].mode()[0], inplace = True)\n",
        "df['Credit_History'].fillna(df['Credit_History'].mode()[0], inplace = True)\n",
        "\n",
        "df.isnull().sum()\n"
      ],
      "metadata": {
        "id": "nXqpRAqupvFP"
      },
      "execution_count": null,
      "outputs": []
    },
    {
      "cell_type": "code",
      "source": [
        "x = df.iloc[:,np.r_[1:5,9:11,13:15]].values\n",
        "y = df.iloc[:,12].values\n",
        "\n",
        "x"
      ],
      "metadata": {
        "id": "QdNK1ARmrscS"
      },
      "execution_count": null,
      "outputs": []
    },
    {
      "cell_type": "code",
      "source": [
        "y"
      ],
      "metadata": {
        "id": "KC6PoBCNtK9M"
      },
      "execution_count": null,
      "outputs": []
    },
    {
      "cell_type": "code",
      "source": [
        "print(\"per of missing gender is %2f%%\"  %((df['Gender'].isnull().sum()/df.shape[0])*100))"
      ],
      "metadata": {
        "id": "r89HOU-Ktq9R"
      },
      "execution_count": null,
      "outputs": []
    },
    {
      "cell_type": "code",
      "source": [
        "print(\"number of people who take loan as group by gender:\")\n",
        "print(df['Gender'].value_counts())\n",
        "sns.countplot(x= 'Gender', data = df, palette = 'Set1')"
      ],
      "metadata": {
        "id": "grGBFwUFuJsE"
      },
      "execution_count": null,
      "outputs": []
    },
    {
      "cell_type": "code",
      "source": [
        "print(\"number of people who take loan as group by martial status:\")\n",
        "print(df['Married'].value_counts())\n",
        "sns.countplot(x= 'Married', data = df, palette = 'Set1')"
      ],
      "metadata": {
        "id": "g8Paz8YDvUhE"
      },
      "execution_count": null,
      "outputs": []
    },
    {
      "cell_type": "code",
      "source": [
        "print(\"number of people who take loan as group by dependents:\")\n",
        "print(df['Dependents'].value_counts())\n",
        "sns.countplot(x= 'Dependents', data = df, palette = 'Set1')"
      ],
      "metadata": {
        "id": "KLb_y0F7YAPx"
      },
      "execution_count": null,
      "outputs": []
    },
    {
      "cell_type": "code",
      "source": [
        "print(\"number of people who take loan as group by self employed:\")\n",
        "print(df['Self_Employed'].value_counts())\n",
        "sns.countplot(x= 'Self_Employed', data = df, palette = 'Set1')"
      ],
      "metadata": {
        "id": "IfwyeWQOYTjg"
      },
      "execution_count": null,
      "outputs": []
    },
    {
      "cell_type": "code",
      "source": [
        "print(\"number of people who take loan as group by LoanAmount:\")\n",
        "print(df['LoanAmount'].value_counts())\n",
        "sns.countplot(x= 'LoanAmount', data = df, palette = 'Set1')"
      ],
      "metadata": {
        "id": "7mvNltfnYkzJ"
      },
      "execution_count": null,
      "outputs": []
    },
    {
      "cell_type": "code",
      "source": [
        "print(\"number of people who take loan as group by Credit History:\")\n",
        "print(df['Credit_History'].value_counts())\n",
        "sns.countplot(x= 'Credit_History', data = df, palette = 'Set1')"
      ],
      "metadata": {
        "id": "4qBXClbcZpWb"
      },
      "execution_count": null,
      "outputs": []
    },
    {
      "cell_type": "code",
      "source": [
        "from sklearn.model_selection import train_test_split\n",
        "X_train, X_test, y_train, y_test = train_test_split(x,y, test_size = 0.2, random_state = 0)\n",
        "\n",
        "from sklearn.preprocessing import LabelEncoder\n",
        "Labelencoder_x = LabelEncoder()"
      ],
      "metadata": {
        "id": "fqfNlujOaRT7"
      },
      "execution_count": null,
      "outputs": []
    },
    {
      "cell_type": "code",
      "source": [
        "for i in range(0,5):\n",
        "    X_train[:,i] = Labelencoder_x.fit_transform(X_train[:,i])\n",
        "    X_test[:,7] = Labelencoder_x.fit_transform(X_test[:,7])\n",
        "\n",
        "X_train"
      ],
      "metadata": {
        "id": "Ye3Qiu7XbA-Q"
      },
      "execution_count": null,
      "outputs": []
    },
    {
      "cell_type": "code",
      "source": [
        "LabelEncoder_y = LabelEncoder()\n",
        "y_train = LabelEncoder_y.fit_transform(y_train)\n",
        "\n",
        "y_train"
      ],
      "metadata": {
        "id": "opxj2inbbont"
      },
      "execution_count": null,
      "outputs": []
    },
    {
      "cell_type": "code",
      "source": [
        "for i in range(0,5):\n",
        "    X_test[:,i] = Labelencoder_x.fit_transform(X_test[:,i])\n",
        "    X_test[:,7] = Labelencoder_x.fit_transform(X_test[:,7])\n",
        "\n",
        "X_test"
      ],
      "metadata": {
        "id": "HFhuEbwrcATo"
      },
      "execution_count": null,
      "outputs": []
    },
    {
      "cell_type": "code",
      "source": [
        "Labelencoder_y = LabelEncoder()\n",
        "y_test = Labelencoder_y.fit_transform(y_test)\n",
        "\n",
        "y_test"
      ],
      "metadata": {
        "id": "srXuqR5jcjWU"
      },
      "execution_count": null,
      "outputs": []
    },
    {
      "cell_type": "code",
      "source": [
        "from sklearn.preprocessing import StandardScaler\n",
        "ss = StandardScaler()\n",
        "X_train = ss.fit_transform(X_train)\n",
        "X_test = ss.transform(X_test)"
      ],
      "metadata": {
        "id": "Zz0a1cfwe9BK"
      },
      "execution_count": null,
      "outputs": []
    },
    {
      "cell_type": "code",
      "source": [
        "from sklearn.ensemble import RandomForestClassifier\n",
        "classifier = RandomForestClassifier()\n",
        "classifier.fit(X_train,y_train)"
      ],
      "metadata": {
        "id": "wYUKOL9QfOy-"
      },
      "execution_count": null,
      "outputs": []
    },
    {
      "cell_type": "code",
      "source": [
        "from sklearn import metrics\n",
        "y_pred = classifier.predict(X_test)\n",
        "\n",
        "print(\"acc of random forest classifier is \",metrics.accuracy_score(y_pred, y_test))\n",
        "\n",
        "y_pred"
      ],
      "metadata": {
        "id": "fAlydoVGfyF0"
      },
      "execution_count": null,
      "outputs": []
    },
    {
      "cell_type": "code",
      "source": [
        "from sklearn.naive_bayes import GaussianNB\n",
        "nb_clf = GaussianNB()\n",
        "nb_clf.fit(X_train,y_train)"
      ],
      "metadata": {
        "id": "rtDvGoSniOOY"
      },
      "execution_count": null,
      "outputs": []
    },
    {
      "cell_type": "code",
      "source": [
        "y_pred = nb_clf.predict(X_test)\n",
        "\n",
        "print(\"acc of naive bayes classifier is \",metrics.accuracy_score(y_pred, y_test))\n",
        "\n",
        "y_pred"
      ],
      "metadata": {
        "id": "CfSIAjPqlEBD"
      },
      "execution_count": null,
      "outputs": []
    },
    {
      "cell_type": "code",
      "source": [
        "from sklearn.tree import DecisionTreeClassifier\n",
        "dt_clf = DecisionTreeClassifier()\n",
        "dt_clf.fit(X_train,y_train)"
      ],
      "metadata": {
        "id": "pfsV-65ilUTH"
      },
      "execution_count": null,
      "outputs": []
    },
    {
      "cell_type": "code",
      "source": [
        "y_pred = dt_clf.predict(X_test)\n",
        "\n",
        "print(\"acc of decision tree classifier is \",metrics.accuracy_score(y_pred, y_test))\n",
        "\n",
        "y_pred"
      ],
      "metadata": {
        "id": "CpWziNv3l1bV"
      },
      "execution_count": null,
      "outputs": []
    },
    {
      "cell_type": "code",
      "source": [
        "from sklearn.neighbors import KNeighborsClassifier\n",
        "knn_clf = KNeighborsClassifier()\n",
        "knn_clf.fit(X_train,y_train)"
      ],
      "metadata": {
        "id": "cAGROWYBl5Y8"
      },
      "execution_count": null,
      "outputs": []
    },
    {
      "cell_type": "code",
      "source": [
        "y_pred = knn_clf.predict(X_test)\n",
        "\n",
        "print(\"acc of knn classifier is \",metrics.accuracy_score(y_pred, y_test))\n",
        "\n",
        "y_pred"
      ],
      "metadata": {
        "id": "NEMD5UV8meLE"
      },
      "execution_count": null,
      "outputs": []
    },
    {
      "cell_type": "code",
      "source": [],
      "metadata": {
        "id": "ujgPTUMBmnyv"
      },
      "execution_count": null,
      "outputs": []
    }
  ]
}